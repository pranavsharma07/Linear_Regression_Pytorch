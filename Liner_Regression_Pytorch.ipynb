{
  "nbformat": 4,
  "nbformat_minor": 0,
  "metadata": {
    "colab": {
      "name": "Liner_Regression_Pytorch.ipynb",
      "provenance": []
    },
    "kernelspec": {
      "name": "python3",
      "display_name": "Python 3"
    }
  },
  "cells": [
    {
      "cell_type": "code",
      "metadata": {
        "colab": {
          "base_uri": "https://localhost:8080/"
        },
        "id": "B5pNLTpHIuBD",
        "outputId": "6cb65d07-11d4-4eb1-934c-ebe117f5fb06"
      },
      "source": [
        "!pip install torch"
      ],
      "execution_count": 101,
      "outputs": [
        {
          "output_type": "stream",
          "text": [
            "Requirement already satisfied: torch in /usr/local/lib/python3.6/dist-packages (1.7.0+cu101)\n",
            "Requirement already satisfied: numpy in /usr/local/lib/python3.6/dist-packages (from torch) (1.19.4)\n",
            "Requirement already satisfied: typing-extensions in /usr/local/lib/python3.6/dist-packages (from torch) (3.7.4.3)\n",
            "Requirement already satisfied: future in /usr/local/lib/python3.6/dist-packages (from torch) (0.16.0)\n",
            "Requirement already satisfied: dataclasses in /usr/local/lib/python3.6/dist-packages (from torch) (0.8)\n"
          ],
          "name": "stdout"
        }
      ]
    },
    {
      "cell_type": "code",
      "metadata": {
        "id": "6bAh2KwAI8v_"
      },
      "source": [
        "import torch\n",
        "import torch.nn as nn\n",
        "import matplotlib.pyplot as plt\n",
        "import numpy as np"
      ],
      "execution_count": 102,
      "outputs": []
    },
    {
      "cell_type": "code",
      "metadata": {
        "colab": {
          "base_uri": "https://localhost:8080/",
          "height": 296
        },
        "id": "2QQ-AYItI-fa",
        "outputId": "4f9879ed-b337-4cbc-acf6-6a98fec91c1b"
      },
      "source": [
        "X = torch.randn(200, 1)*10\n",
        "y = X + 3*torch.randn(200, 1)\n",
        "plt.plot(X.numpy(), y.numpy(), 'o')\n",
        "plt.ylabel('y')\n",
        "plt.xlabel('x')"
      ],
      "execution_count": 103,
      "outputs": [
        {
          "output_type": "execute_result",
          "data": {
            "text/plain": [
              "Text(0.5, 0, 'x')"
            ]
          },
          "metadata": {
            "tags": []
          },
          "execution_count": 103
        },
        {
          "output_type": "display_data",
          "data": {
            "image/png": "[encoded data removed]",
            "text/plain": [
              "<Figure size 432x288 with 1 Axes>"
            ]
          },
          "metadata": {
            "tags": [],
            "needs_background": "light"
          }
        }
      ]
    },
    {
      "cell_type": "code",
      "metadata": {
        "id": "ImimM3bFJMFS"
      },
      "source": [
        "class Linear_Reg(nn.Module):\n",
        "  def __init__(self, input_size, output_size):\n",
        "    super().__init__()\n",
        "    self.linear = nn.Linear(input_size, output_size)\n",
        "  def forward(self, x):\n",
        "    pred = self.linear(x)\n",
        "    return pred"
      ],
      "execution_count": 113,
      "outputs": []
    },
    {
      "cell_type": "code",
      "metadata": {
        "colab": {
          "base_uri": "https://localhost:8080/"
        },
        "id": "p0q24L_UJeAf",
        "outputId": "388e7680-a972-4770-8738-ed87c30b557a"
      },
      "source": [
        "torch.manual_seed(1)\n",
        "model = Linear_Reg(1, 1)\n",
        "print(model)"
      ],
      "execution_count": 114,
      "outputs": [
        {
          "output_type": "stream",
          "text": [
            "Linear_Reg(\n",
            "  (linear): Linear(in_features=1, out_features=1, bias=True)\n",
            ")\n"
          ],
          "name": "stdout"
        }
      ]
    },
    {
      "cell_type": "code",
      "metadata": {
        "id": "hy9foDIHJgdV"
      },
      "source": [
        "[w, b] = model.parameters()\n",
        "def get_parameters():\n",
        "  return (w[0][0].item(), b[0].item())"
      ],
      "execution_count": 106,
      "outputs": []
    },
    {
      "cell_type": "code",
      "metadata": {
        "id": "6PnXymdEJmpZ"
      },
      "source": [
        "def plot_fit(title):\n",
        "  plt.title = title\n",
        "  w1, b1 = get_parameters()\n",
        "  x1 = np.array([-30, 30])\n",
        "  y1 = w1*x1 + b1\n",
        "  plt.plot(x1, y1, 'g')\n",
        "  plt.scatter(X, y)\n",
        "  plt.show()"
      ],
      "execution_count": 107,
      "outputs": []
    },
    {
      "cell_type": "code",
      "metadata": {
        "colab": {
          "base_uri": "https://localhost:8080/",
          "height": 265
        },
        "id": "wQeySvaiJycY",
        "outputId": "2865cea2-8bf3-4bd9-b1cd-881262befb40"
      },
      "source": [
        "plot_fit('Initial Model')"
      ],
      "execution_count": 108,
      "outputs": [
        {
          "output_type": "display_data",
          "data": {
            "image/png": "[encoded data removed]",
            "text/plain": [
              "<Figure size 432x288 with 1 Axes>"
            ]
          },
          "metadata": {
            "tags": [],
            "needs_background": "light"
          }
        }
      ]
    },
    {
      "cell_type": "code",
      "metadata": {
        "id": "w5bQ02xkJ4y4"
      },
      "source": [
        "criterion = nn.MSELoss()\n",
        "optimizer = torch.optim.Adam(model.parameters(), lr = 0.01)"
      ],
      "execution_count": 109,
      "outputs": []
    },
    {
      "cell_type": "code",
      "metadata": {
        "colab": {
          "base_uri": "https://localhost:8080/"
        },
        "id": "G3FT6sKFJ7Rp",
        "outputId": "6cd51bf3-6f4e-4984-f9b9-56adaa17afc1"
      },
      "source": [
        "epochs = 75\n",
        "losses = []\n",
        "for i in range(epochs):\n",
        "  y_pred = model.forward(X)\n",
        "  loss = criterion(y_pred, y)\n",
        "  print(\"epoch:\", i, \"loss:\", loss.item())\n",
        "  \n",
        "  losses.append(loss)\n",
        "  optimizer.zero_grad()\n",
        "  loss.backward()\n",
        "  optimizer.step()"
      ],
      "execution_count": 110,
      "outputs": [
        {
          "output_type": "stream",
          "text": [
            "epoch: 0 loss: 29.849834442138672\n",
            "epoch: 1 loss: 28.9090518951416\n",
            "epoch: 2 loss: 27.990280151367188\n",
            "epoch: 3 loss: 27.09387969970703\n",
            "epoch: 4 loss: 26.22018051147461\n",
            "epoch: 5 loss: 25.36949920654297\n",
            "epoch: 6 loss: 24.5421085357666\n",
            "epoch: 7 loss: 23.738256454467773\n",
            "epoch: 8 loss: 22.958148956298828\n",
            "epoch: 9 loss: 22.20196533203125\n",
            "epoch: 10 loss: 21.469839096069336\n",
            "epoch: 11 loss: 20.761865615844727\n",
            "epoch: 12 loss: 20.078109741210938\n",
            "epoch: 13 loss: 19.4185848236084\n",
            "epoch: 14 loss: 18.783266067504883\n",
            "epoch: 15 loss: 18.172096252441406\n",
            "epoch: 16 loss: 17.584959030151367\n",
            "epoch: 17 loss: 17.021711349487305\n",
            "epoch: 18 loss: 16.482166290283203\n",
            "epoch: 19 loss: 15.966090202331543\n",
            "epoch: 20 loss: 15.473210334777832\n",
            "epoch: 21 loss: 15.003227233886719\n",
            "epoch: 22 loss: 14.5557861328125\n",
            "epoch: 23 loss: 14.130500793457031\n",
            "epoch: 24 loss: 13.726956367492676\n",
            "epoch: 25 loss: 13.344700813293457\n",
            "epoch: 26 loss: 12.983248710632324\n",
            "epoch: 27 loss: 12.642081260681152\n",
            "epoch: 28 loss: 12.32066535949707\n",
            "epoch: 29 loss: 12.018431663513184\n",
            "epoch: 30 loss: 11.73478889465332\n",
            "epoch: 31 loss: 11.469130516052246\n",
            "epoch: 32 loss: 11.22082805633545\n",
            "epoch: 33 loss: 10.989243507385254\n",
            "epoch: 34 loss: 10.773721694946289\n",
            "epoch: 35 loss: 10.573600769042969\n",
            "epoch: 36 loss: 10.38821029663086\n",
            "epoch: 37 loss: 10.216876029968262\n",
            "epoch: 38 loss: 10.058924674987793\n",
            "epoch: 39 loss: 9.913681983947754\n",
            "epoch: 40 loss: 9.780477523803711\n",
            "epoch: 41 loss: 9.658645629882812\n",
            "epoch: 42 loss: 9.547534942626953\n",
            "epoch: 43 loss: 9.44649600982666\n",
            "epoch: 44 loss: 9.354898452758789\n",
            "epoch: 45 loss: 9.272126197814941\n",
            "epoch: 46 loss: 9.197578430175781\n",
            "epoch: 47 loss: 9.130668640136719\n",
            "epoch: 48 loss: 9.070837020874023\n",
            "epoch: 49 loss: 9.017538070678711\n",
            "epoch: 50 loss: 8.97025203704834\n",
            "epoch: 51 loss: 8.928481101989746\n",
            "epoch: 52 loss: 8.891749382019043\n",
            "epoch: 53 loss: 8.859606742858887\n",
            "epoch: 54 loss: 8.831625938415527\n",
            "epoch: 55 loss: 8.807405471801758\n",
            "epoch: 56 loss: 8.786566734313965\n",
            "epoch: 57 loss: 8.768756866455078\n",
            "epoch: 58 loss: 8.75364875793457\n",
            "epoch: 59 loss: 8.740933418273926\n",
            "epoch: 60 loss: 8.730332374572754\n",
            "epoch: 61 loss: 8.721582412719727\n",
            "epoch: 62 loss: 8.71445083618164\n",
            "epoch: 63 loss: 8.708717346191406\n",
            "epoch: 64 loss: 8.704184532165527\n",
            "epoch: 65 loss: 8.700677871704102\n",
            "epoch: 66 loss: 8.69803524017334\n",
            "epoch: 67 loss: 8.696117401123047\n",
            "epoch: 68 loss: 8.694794654846191\n",
            "epoch: 69 loss: 8.693960189819336\n",
            "epoch: 70 loss: 8.693511962890625\n",
            "epoch: 71 loss: 8.693368911743164\n",
            "epoch: 72 loss: 8.693455696105957\n",
            "epoch: 73 loss: 8.693713188171387\n",
            "epoch: 74 loss: 8.694087028503418\n"
          ],
          "name": "stdout"
        }
      ]
    },
    {
      "cell_type": "code",
      "metadata": {
        "colab": {
          "base_uri": "https://localhost:8080/",
          "height": 296
        },
        "id": "taoj2ncoKUUr",
        "outputId": "44c1e6c2-412b-4147-918d-91e68d7fc9d6"
      },
      "source": [
        "plt.plot(range(epochs), losses)\n",
        "plt.ylabel('Loss')\n",
        "plt.xlabel('epoch')"
      ],
      "execution_count": 111,
      "outputs": [
        {
          "output_type": "execute_result",
          "data": {
            "text/plain": [
              "Text(0.5, 0, 'epoch')"
            ]
          },
          "metadata": {
            "tags": []
          },
          "execution_count": 111
        },
        {
          "output_type": "display_data",
          "data": {
            "image/png": "[encoded data removed]",
            "text/plain": [
              "<Figure size 432x288 with 1 Axes>"
            ]
          },
          "metadata": {
            "tags": [],
            "needs_background": "light"
          }
        }
      ]
    },
    {
      "cell_type": "code",
      "metadata": {
        "colab": {
          "base_uri": "https://localhost:8080/",
          "height": 265
        },
        "id": "InvfELz6KYR_",
        "outputId": "5db52992-63c0-4986-dfc0-2c4bbaa71fc3"
      },
      "source": [
        "plot_fit(\"Trained Model\")"
      ],
      "execution_count": 112,
      "outputs": [
        {
          "output_type": "display_data",
          "data": {
            "image/png": "[encoded data removed]",
            "text/plain": [
              "<Figure size 432x288 with 1 Axes>"
            ]
          },
          "metadata": {
            "tags": [],
            "needs_background": "light"
          }
        }
      ]
    }
  ]
}